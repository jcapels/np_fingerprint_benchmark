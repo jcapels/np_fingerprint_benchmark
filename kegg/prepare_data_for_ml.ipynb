{
 "cells": [
  {
   "cell_type": "code",
   "execution_count": null,
   "metadata": {},
   "outputs": [],
   "source": []
  },
  {
   "cell_type": "code",
   "execution_count": 1,
   "metadata": {},
   "outputs": [
    {
     "name": "stderr",
     "output_type": "stream",
     "text": [
      "/home/jcapela/.local/share/mamba/envs/np_benchmark/lib/python3.10/site-packages/tqdm/auto.py:21: TqdmWarning: IProgress not found. Please update jupyter and ipywidgets. See https://ipywidgets.readthedocs.io/en/stable/user_install.html\n",
      "  from .autonotebook import tqdm as notebook_tqdm\n"
     ]
    },
    {
     "name": "stdout",
     "output_type": "stream",
     "text": [
      "2025-07-21 11:34:07,768 — INFO — Assuming multitask since y has more than one dimension. If otherwise, explicitly set the mode to 'classification' or 'regression'!\n"
     ]
    }
   ],
   "source": [
    "from deepmol.loaders import CSVLoader\n",
    "import pandas as pd\n",
    "\n",
    "dataset = pd.read_csv(\"kegg_pathways_w_labels.csv\", nrows=2)\n",
    "labels = dataset.columns[4:]\n",
    "# LOAD THE DATA\n",
    "loader = CSVLoader('kegg_pathways_w_labels.csv', \n",
    "                   smiles_field='SMILES',labels_fields=labels)\n",
    "dataset = loader.create_dataset(sep=\",\")"
   ]
  },
  {
   "cell_type": "code",
   "execution_count": 2,
   "metadata": {},
   "outputs": [
    {
     "name": "stdout",
     "output_type": "stream",
     "text": [
      "2025-07-21 11:34:07,776 — INFO — Mols_shape: (1255,)\n",
      "2025-07-21 11:34:07,777 — INFO — Features_shape: None\n",
      "2025-07-21 11:34:07,777 — INFO — Labels_shape: (1255, 22)\n"
     ]
    },
    {
     "data": {
      "text/plain": [
       "((1255,), None, (1255, 22))"
      ]
     },
     "execution_count": 2,
     "metadata": {},
     "output_type": "execute_result"
    }
   ],
   "source": [
    "dataset.get_shape()"
   ]
  },
  {
   "cell_type": "code",
   "execution_count": 3,
   "metadata": {},
   "outputs": [],
   "source": [
    "from deepmol.splitters import MultiTaskStratifiedSplitter\n",
    "\n",
    "new_splits = [[], [], [], [], []]\n",
    "\n",
    "for i in range(5):\n",
    "    seed = i\n",
    "    datasets = MultiTaskStratifiedSplitter().k_fold_split(dataset, k=5, seed=seed)\n",
    "    for train_dataset, test_dataset in datasets:\n",
    "        train_dataset, validation_dataset = MultiTaskStratifiedSplitter().train_test_split(train_dataset, frac_train=0.8, seed=seed)\n",
    "        new_splits[i].append((train_dataset, validation_dataset, test_dataset))\n",
    "\n"
   ]
  },
  {
   "cell_type": "code",
   "execution_count": 4,
   "metadata": {},
   "outputs": [],
   "source": [
    "import pickle\n",
    "\n",
    "# Specify the filename\n",
    "filename = 'splits.pkl'\n",
    "\n",
    "# Write the data to a file using pickle\n",
    "with open(filename, 'wb') as file:\n",
    "    pickle.dump(new_splits, file)"
   ]
  },
  {
   "cell_type": "markdown",
   "metadata": {},
   "source": [
    "# Generate embeddings"
   ]
  },
  {
   "cell_type": "code",
   "execution_count": 5,
   "metadata": {},
   "outputs": [],
   "source": [
    "import pickle\n",
    "\n",
    "\n",
    "# open pickle file\n",
    "# Specify the filename\n",
    "filename = 'splits.pkl'\n",
    "with open(filename, 'rb') as file:\n",
    "    loaded_data = pickle.load(file)"
   ]
  },
  {
   "cell_type": "code",
   "execution_count": 6,
   "metadata": {},
   "outputs": [
    {
     "name": "stderr",
     "output_type": "stream",
     "text": [
      "No normalization for SPS. Feature removed!\n",
      "No normalization for AvgIpc. Feature removed!\n",
      "2025-07-21 11:34:29.916034: E external/local_xla/xla/stream_executor/cuda/cuda_dnn.cc:9261] Unable to register cuDNN factory: Attempting to register factory for plugin cuDNN when one has already been registered\n",
      "2025-07-21 11:34:29.916088: E external/local_xla/xla/stream_executor/cuda/cuda_fft.cc:607] Unable to register cuFFT factory: Attempting to register factory for plugin cuFFT when one has already been registered\n",
      "2025-07-21 11:34:29.998089: E external/local_xla/xla/stream_executor/cuda/cuda_blas.cc:1515] Unable to register cuBLAS factory: Attempting to register factory for plugin cuBLAS when one has already been registered\n",
      "2025-07-21 11:34:30.151405: I tensorflow/core/platform/cpu_feature_guard.cc:182] This TensorFlow binary is optimized to use available CPU instructions in performance-critical operations.\n",
      "To enable the following instructions: AVX2 AVX512F FMA, in other operations, rebuild TensorFlow with the appropriate compiler flags.\n"
     ]
    },
    {
     "ename": "AttributeError",
     "evalue": "'MessageFactory' object has no attribute 'GetPrototype'",
     "output_type": "error",
     "traceback": [
      "\u001b[0;31m---------------------------------------------------------------------------\u001b[0m",
      "\u001b[0;31mAttributeError\u001b[0m                            Traceback (most recent call last)",
      "\u001b[0;31mAttributeError\u001b[0m: 'MessageFactory' object has no attribute 'GetPrototype'"
     ]
    },
    {
     "ename": "AttributeError",
     "evalue": "'MessageFactory' object has no attribute 'GetPrototype'",
     "output_type": "error",
     "traceback": [
      "\u001b[0;31m---------------------------------------------------------------------------\u001b[0m",
      "\u001b[0;31mAttributeError\u001b[0m                            Traceback (most recent call last)",
      "\u001b[0;31mAttributeError\u001b[0m: 'MessageFactory' object has no attribute 'GetPrototype'"
     ]
    },
    {
     "ename": "AttributeError",
     "evalue": "'MessageFactory' object has no attribute 'GetPrototype'",
     "output_type": "error",
     "traceback": [
      "\u001b[0;31m---------------------------------------------------------------------------\u001b[0m",
      "\u001b[0;31mAttributeError\u001b[0m                            Traceback (most recent call last)",
      "\u001b[0;31mAttributeError\u001b[0m: 'MessageFactory' object has no attribute 'GetPrototype'"
     ]
    },
    {
     "ename": "AttributeError",
     "evalue": "'MessageFactory' object has no attribute 'GetPrototype'",
     "output_type": "error",
     "traceback": [
      "\u001b[0;31m---------------------------------------------------------------------------\u001b[0m",
      "\u001b[0;31mAttributeError\u001b[0m                            Traceback (most recent call last)",
      "\u001b[0;31mAttributeError\u001b[0m: 'MessageFactory' object has no attribute 'GetPrototype'"
     ]
    },
    {
     "name": "stderr",
     "output_type": "stream",
     "text": [
      "2025-07-21 11:34:35.752310: W tensorflow/compiler/tf2tensorrt/utils/py_utils.cc:38] TF-TRT Warning: Could not find TensorRT\n"
     ]
    },
    {
     "ename": "AttributeError",
     "evalue": "'MessageFactory' object has no attribute 'GetPrototype'",
     "output_type": "error",
     "traceback": [
      "\u001b[0;31m---------------------------------------------------------------------------\u001b[0m",
      "\u001b[0;31mAttributeError\u001b[0m                            Traceback (most recent call last)",
      "\u001b[0;31mAttributeError\u001b[0m: 'MessageFactory' object has no attribute 'GetPrototype'"
     ]
    },
    {
     "name": "stdout",
     "output_type": "stream",
     "text": [
      "WARNING:tensorflow:From /home/jcapela/.local/share/mamba/envs/np_benchmark/lib/python3.10/site-packages/tensorflow/python/util/deprecation.py:588: calling function (from tensorflow.python.eager.polymorphic_function.polymorphic_function) with experimental_relax_shapes is deprecated and will be removed in a future version.\n",
      "Instructions for updating:\n",
      "experimental_relax_shapes is deprecated, use reduce_retracing instead\n"
     ]
    },
    {
     "name": "stderr",
     "output_type": "stream",
     "text": [
      "Skipped loading modules with pytorch-lightning dependency, missing a dependency. No module named 'lightning'\n",
      "Skipped loading some Jax models, missing a dependency. No module named 'jax'\n",
      "/home/jcapela/.local/share/mamba/envs/np_benchmark/lib/python3.10/site-packages/deepmol/compound_featurization/__init__.py:20: UserWarning: Mol2Vec not available. Please install it to use it. (pip install git+https://github.com/samoturk/mol2vec#egg=mol2vec)\n",
      "  warnings.warn(\"Mol2Vec not available. Please install it to use it. \"\n",
      "Some weights of BertModel were not initialized from the model checkpoint at NPBERT/model.pt and are newly initialized: ['pooler.dense.bias', 'pooler.dense.weight']\n",
      "You should probably TRAIN this model on a down-stream task to be able to use it for predictions and inference.\n"
     ]
    },
    {
     "name": "stdout",
     "output_type": "stream",
     "text": [
      "2025-07-21 11:34:55,589 — ERROR — Features are not the same length/type... Recalculate features for all inputs!\n",
      "2025-07-21 11:34:55,591 — ERROR — Features are not the same length/type... Recalculate features for all inputs!\n",
      "2025-07-21 11:34:55,592 — INFO — Standardizer ChEMBLStandardizer initialized with -1 jobs.\n"
     ]
    },
    {
     "name": "stderr",
     "output_type": "stream",
     "text": [
      "ChEMBLStandardizer: 100%|██████████| 1255/1255 [00:09<00:00, 139.44it/s]\n",
      "100%|██████████| 1255/1255 [00:10<00:00, 117.45it/s]\n"
     ]
    }
   ],
   "source": [
    "import os\n",
    "from deepmol.compound_featurization import LLM\n",
    "from transformers import BertConfig, BertModel\n",
    "\n",
    "from deepmol.standardizer import ChEMBLStandardizer\n",
    "\n",
    "from deepmol.tokenizers import NPBERTTokenizer\n",
    "\n",
    "transformer = LLM(model_path=\"NPBERT\", model=BertModel, config_class=BertConfig,\n",
    "                          tokenizer=NPBERTTokenizer(vocab_file=os.path.join(\"NPBERT\", \"vocab.txt\")), device=\"cuda:0\")\n",
    "\n",
    "\n",
    "train_dataset, validation_dataset, test_dataset = loaded_data[0][0]\n",
    "train_dataset = train_dataset.merge([validation_dataset, test_dataset])\n",
    "ChEMBLStandardizer().standardize(train_dataset, inplace=True)\n",
    "# Featurize the datasets\n",
    "transformer.featurize(train_dataset, inplace=True)\n"
   ]
  },
  {
   "cell_type": "code",
   "execution_count": 7,
   "metadata": {},
   "outputs": [],
   "source": [
    "# Create the dictionary\n",
    "data_dict = {id_: x for id_, x in zip(train_dataset.ids, train_dataset.X)}"
   ]
  },
  {
   "cell_type": "code",
   "execution_count": 8,
   "metadata": {},
   "outputs": [],
   "source": [
    "# to pickle\n",
    "import pickle\n",
    "\n",
    "# Specify the filename\n",
    "filename = 'np_bert.pkl'\n",
    "\n",
    "# Write the data to a file using pickle\n",
    "with open(filename, 'wb') as file:\n",
    "    pickle.dump(data_dict, file)"
   ]
  },
  {
   "cell_type": "code",
   "execution_count": 9,
   "metadata": {},
   "outputs": [],
   "source": [
    "# Load the data from the pickle file\n",
    "with open(filename, 'rb') as file:\n",
    "    np_bert = pickle.load(file)\n"
   ]
  },
  {
   "cell_type": "code",
   "execution_count": 10,
   "metadata": {},
   "outputs": [],
   "source": [
    "import numpy as np\n",
    "\n",
    "def featurize_dataset(dataset, np_bert):\n",
    "    features = []\n",
    "    for id_ in dataset.ids:\n",
    "        features.append(np_bert[id_])\n",
    "    features = np.array(features)\n",
    "    dataset._X = features\n",
    "    return dataset"
   ]
  },
  {
   "cell_type": "code",
   "execution_count": 11,
   "metadata": {},
   "outputs": [],
   "source": [
    "new_splits = [[], [], [], [], []]\n",
    "\n",
    "for i in range(5):\n",
    "    for train_dataset, validation_dataset, test_dataset in loaded_data[i]:\n",
    "        train_dataset = featurize_dataset(train_dataset, np_bert)\n",
    "        validation_dataset = featurize_dataset(validation_dataset, np_bert)\n",
    "        test_dataset = featurize_dataset(test_dataset, np_bert)\n",
    "        new_splits[i].append((train_dataset, validation_dataset, test_dataset))\n",
    "\n",
    "# Specify the filename\n",
    "filename = 'splits_npbert.pkl'\n",
    "# Write the data to a file using pickle\n",
    "with open(filename, 'wb') as file:\n",
    "    pickle.dump(new_splits, file)"
   ]
  },
  {
   "cell_type": "code",
   "execution_count": 12,
   "metadata": {},
   "outputs": [
    {
     "data": {
      "text/plain": [
       "array([[-0.00964477, -0.07120536, -0.3341364 , ...,  0.26339033,\n",
       "        -0.42905506, -0.21124896],\n",
       "       [ 0.0571223 , -0.06259119, -0.5391472 , ...,  0.12575962,\n",
       "        -0.4212825 , -0.15620579],\n",
       "       [ 0.13864245, -0.08747164, -0.61114496, ...,  0.0708169 ,\n",
       "        -0.43497893, -0.15839529],\n",
       "       ...,\n",
       "       [ 0.08087426, -0.14390326, -0.5035606 , ...,  0.07976154,\n",
       "        -0.40614304, -0.18456466],\n",
       "       [ 0.17691417, -0.04101022, -0.37768027, ...,  0.21714582,\n",
       "        -0.44233507, -0.18424739],\n",
       "       [-0.09625542, -0.07367446, -0.26573285, ...,  0.2375433 ,\n",
       "        -0.42717344, -0.18969171]])"
      ]
     },
     "execution_count": 12,
     "metadata": {},
     "output_type": "execute_result"
    }
   ],
   "source": [
    "test_dataset.X"
   ]
  },
  {
   "cell_type": "code",
   "execution_count": 13,
   "metadata": {},
   "outputs": [],
   "source": [
    "import pickle\n",
    "\n",
    "\n",
    "# open pickle file\n",
    "# Specify the filename\n",
    "filename = 'splits.pkl'\n",
    "with open(filename, 'rb') as file:\n",
    "    loaded_data = pickle.load(file)\n",
    "    "
   ]
  },
  {
   "cell_type": "code",
   "execution_count": 16,
   "metadata": {},
   "outputs": [
    {
     "name": "stdout",
     "output_type": "stream",
     "text": [
      "2025-07-21 11:36:28,424 — ERROR — Features are not the same length/type... Recalculate features for all inputs!\n",
      "2025-07-21 11:36:28,426 — ERROR — Features are not the same length/type... Recalculate features for all inputs!\n",
      "2025-07-21 11:36:28,428 — INFO — Standardizer ChEMBLStandardizer initialized with -1 jobs.\n"
     ]
    },
    {
     "name": "stderr",
     "output_type": "stream",
     "text": [
      "ChEMBLStandardizer: 100%|██████████| 1255/1255 [00:08<00:00, 145.60it/s]\n",
      "100%|██████████| 1255/1255 [00:54<00:00, 23.12it/s]\n"
     ]
    }
   ],
   "source": [
    "import os\n",
    "from deepmol.compound_featurization import LLM\n",
    "from transformers import ModernBertModel, ModernBertConfig\n",
    "\n",
    "from deepmol.standardizer import ChEMBLStandardizer\n",
    "\n",
    "\n",
    "transformer = LLM(model_path=\"../ModernBERT\", model=ModernBertModel, config_class=ModernBertConfig, device=\"cuda:2\")\n",
    "\n",
    "\n",
    "train_dataset, validation_dataset, test_dataset = loaded_data[0][0]\n",
    "train_dataset = train_dataset.merge([validation_dataset, test_dataset])\n",
    "ChEMBLStandardizer().standardize(train_dataset, inplace=True)\n",
    "# Featurize the datasets\n",
    "transformer.featurize(train_dataset, inplace=True)\n"
   ]
  },
  {
   "cell_type": "code",
   "execution_count": 17,
   "metadata": {},
   "outputs": [
    {
     "name": "stdout",
     "output_type": "stream",
     "text": [
      "2025-07-21 11:37:46,529 — INFO — Mols_shape: (1255,)\n",
      "2025-07-21 11:37:46,530 — INFO — Features_shape: (1255, 1024)\n",
      "2025-07-21 11:37:46,531 — INFO — Labels_shape: (1255, 22)\n"
     ]
    },
    {
     "data": {
      "text/plain": [
       "((1255,), (1255, 1024), (1255, 22))"
      ]
     },
     "execution_count": 17,
     "metadata": {},
     "output_type": "execute_result"
    }
   ],
   "source": [
    "train_dataset.get_shape()"
   ]
  },
  {
   "cell_type": "code",
   "execution_count": 20,
   "metadata": {},
   "outputs": [],
   "source": [
    "# Create the dictionary\n",
    "data_dict = {id_: x for id_, x in zip(train_dataset.ids, train_dataset.X)}\n",
    "\n",
    "# to pickle\n",
    "import pickle\n",
    "\n",
    "# Specify the filename\n",
    "filename = 'modern_bert.pkl'\n",
    "\n",
    "# Write the data to a file using pickle\n",
    "with open(filename, 'wb') as file:\n",
    "    pickle.dump(data_dict, file)"
   ]
  },
  {
   "cell_type": "code",
   "execution_count": 21,
   "metadata": {},
   "outputs": [],
   "source": [
    "# Load the data from the pickle file\n",
    "with open(filename, 'rb') as file:\n",
    "    np_bert = pickle.load(file)\n"
   ]
  },
  {
   "cell_type": "code",
   "execution_count": 22,
   "metadata": {},
   "outputs": [],
   "source": [
    "new_splits = [[], [], [], [], []]\n",
    "\n",
    "for i in range(5):\n",
    "    for train_dataset, validation_dataset, test_dataset in loaded_data[i]:\n",
    "        train_dataset = featurize_dataset(train_dataset, np_bert)\n",
    "        validation_dataset = featurize_dataset(validation_dataset, np_bert)\n",
    "        test_dataset = featurize_dataset(test_dataset, np_bert)\n",
    "        new_splits[i].append((train_dataset, validation_dataset, test_dataset))\n",
    "\n",
    "# Specify the filename\n",
    "filename = 'splits_modern_bert.pkl'\n",
    "# Write the data to a file using pickle\n",
    "with open(filename, 'wb') as file:\n",
    "    pickle.dump(new_splits, file)"
   ]
  }
 ],
 "metadata": {
  "kernelspec": {
   "display_name": "np_benchmark",
   "language": "python",
   "name": "python3"
  },
  "language_info": {
   "codemirror_mode": {
    "name": "ipython",
    "version": 3
   },
   "file_extension": ".py",
   "mimetype": "text/x-python",
   "name": "python",
   "nbconvert_exporter": "python",
   "pygments_lexer": "ipython3",
   "version": "3.10.17"
  }
 },
 "nbformat": 4,
 "nbformat_minor": 2
}
