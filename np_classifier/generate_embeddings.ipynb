{
 "cells": [
  {
   "cell_type": "code",
   "execution_count": 2,
   "id": "5fd4bc10",
   "metadata": {},
   "outputs": [
    {
     "name": "stdout",
     "output_type": "stream",
     "text": [
      "key,SMILES,Alkaloids,Amino acids and Peptides,Carbohydrates,Fatty acids,Polyketides,Shikimates and Phenylpropanoids,Terpenoids,Alkylresorsinols,Amino acid glycosides,Aminosugars and aminoglycosides,Anthranilic acid alkaloids,Apocarotenoids,Aromatic polyketides,Carotenoids (C40),Carotenoids (C45),Carotenoids (C50),Chromanes,Coumarins,Cyclic polyketides,Diarylheptanoids,Diazotetronic acids and derivatives,Diterpenoids,Docosanoids,Eicosanoids,Fatty Acids and Conjugates,Fatty acyl glycosides,Fatty acyls,Fatty amides,Fatty esters,Flavonoids,Fluorenes,Glycerolipids,Glycerophospholipids,Guanidine alkaloids,Histidine alkaloids,Isoflavonoids,Lignans,Linear polyketides,Lysine alkaloids,Macrolides,Meroterpenoids,Monoterpenoids,Mycosporine derivatives,Naphthalenes,Nicotinic acid alkaloids,Nucleosides,Octadecanoids,Oligopeptides,Ornithine alkaloids,Peptide alkaloids,Phenolic acids (C6-C1),Phenylethanoids (C6-C2),Phenylpropanoids (C6-C3),Phloroglucinols,Polycyclic aromatic polyketides,Polyethers,Polyols,Polyprenols,Proline alkaloids,Pseudoalkaloids (transamidation),Saccharides,Sesquiterpenoids,Sesterterpenoids,Small peptides,Spingolipids,Steroids,Stilbenoids,Styrylpyrones,Terphenyls,Tetramate alkaloids,Triterpenoids,Tropolones,Tryptophan alkaloids,Tyrosine alkaloids,Xanthones,β-lactams,γ-lactam-β-lactones,12-oxophytodienoic acid metabolites,2-arylbenzofurans,2-pyrone derivatives,3-Decalinoyltetramic acids,3-Spirotetramic acids,3-acyl tetramic acids,3-oligoenoyltetramic acids,4-pyrone derivatives,Abeoabietane diterpenoids,Abeolupane triterpenoids,Abeotaxane diterpenoids,Abietane diterpenoids,Acetate-derived alkaloids,Acetogenins,Acidic glycosphingolipids,Acorane sesquiterpenoids,Acridone alkaloids,Actinomycins,Acutumine alkaloids,Acyclic guanidine alkaloids,Acyclic monoterpenoids,Acyl phloroglucinols,Adianane triterpenoids,Aeruginosins,Aflatoxins,Africanane sesquiterpenoids,Agarofuran sesquiterpenoids,Alliacane sesquiterpenoids,Allohimachalane sesquiterpenoids,Amarylidaceae alkaloids,Amino cyclitols,Amino fatty acids,Aminoacids,Aminoglycosides,Aminosugars,Amphilectane diterpenoids,Anabaenopeptins,Androstane steroids,Angucyclines,Ansa macrolides,Ansa peptide alkaloids,Anthocyanidins,Anthracyclines,Anthranillic acid derivatives,Anthraquinones and anthrones,Antimycins,Aphidicolane diterpenoids,\"Apocarotenoids (C30, Ψ-Ψ)\",Apocarotenoids (Ψ-),Apocarotenoids (β-),Apocarotenoids(ε-),Aporphine alkaloids,Apotirucallane triterpenoids,Aristolane sesquiterpenoids,Aromadendrane sesquiterpenoids,Aromatic polyketides with side chains,Arteminisin,Arylnaphthalene and aryltetralin lignans,Asbestinane diterpenoids,Ascarosides,Ascomycins and Rapamycins,Asperane sesterterpenoids,Aspidosperma type,Aspidosperma-Iboga hybrid type (Vinca alkaloids),Asteriscane sesquiterpenoids,Atisane diterpenoids,Aurones,Avermectins,Avilamycins and derivatives,Azaphilones,Baccharane triterpenoids,Bactoprenols,Bafilomycins,Bagremycins,Bauerane triterpenoids,Benastatins and derivatives,Benzodiazepine alkaloids,Bergamotane sesquiterpenoids,Betaestacin-type sesterterpenoids,Betalain alkaloids,Beyerane diterpenoids,Biaryl type diarylheptanoids,Bicyclic guanidine alkaloids,Bicyclogermacrane sesquiterpenoids,Bicyclohumulane sesquiterpenoids,Bisabolane sesquiterpenoids,Bisnaphthalenes,Bleomycins,Botryane sesquiterpenoids,Bourbonane sesquiterpenoids,Branched fatty acids,Brasilane sesquiterpenoids,Breviane diterpenoids,Briarane diterpenoids,Bryostatins,Bufadienolides,CDP-Glycerols,Cadinane sesquiterpenoids,Camphane monoterpenoids,Campherenane sesquiterpenoids,Cannabinoids,Capnellane sesquiterpenoids,Capsaicins and Capsaicinoids,Carabrane sesquiterpenoids,Carane monoterpenoids,Carbapenems,Carbazole alkaloids,Carbocyclic fatty acids,Carboline alkaloids,Cardenolides,\"Carotenoids (C40, Χ-Χ)\",\"Carotenoids (C40, Χ-Ψ)\",\"Carotenoids (C40, Ψ-Ψ)\",\"Carotenoids (C40, β-Χ)\",\"Carotenoids (C40, β-Ψ)\",\"Carotenoids (C40, β-β)\",\"Carotenoids (C40, β-γ)\",\"Carotenoids (C40, β-ε)\",\"Carotenoids (C40, β-κ)\",\"Carotenoids (C40, β-π)\",\"Carotenoids (C40, γ-Ψ)\",\"Carotenoids (C40, γ-ε)\",\"Carotenoids (C40, ε-Ψ)\",\"Carotenoids (C40, ε-ε)\",\"Carotenoids (C40, κ-Χ)\",\"Carotenoids (C40, κ-κ)\",\"Carotenoids (C40, π-Χ)\",\"Carotenoids (C40, π-Ψ)\",\"Carotenoids (C40, π-π)\",\"Carotenoids (C45, Ψ-Ψ)\",\"Carotenoids (C45, β-Ψ)\",\"Carotenoids (C45, ε-Ψ)\",\"Carotenoids (C50, Ψ-Ψ)\",\"Carotenoids (C50, β-Ψ)\",\"Carotenoids (C50, β-β)\",\"Carotenoids (C50, γ-γ)\",\"Carotenoids (C50, ε-ε)\",Caryolane sesquiterpenoids,Caryophyllane sesquiterpenoids,Casbane diterpenoids,Cassane diterpenoids,Catechols with side chains,Cedrane and Isocedrane sesquiterpenoids,Cembrane diterpenoids,Cephalosporins,Cephamycins,Ceramides,Cericerane sesterterpenoids,Chalcones,Chamigrane sesquiterpenoids,Cheilanthane sesterterpenoids,Chiloscyphane sesquiterpenoids,Cholane steroids,Cholestane steroids,Chromones,Cinnamic acid amides,Cinnamic acids and derivatives,Cinnamoyl phenols,Clavams,Clavulones,Cleistanthane diterpenoids,Clovane sesquiterpenoids,Colensane and Clerodane diterpenoids,Coloratane sesquiterpenoids,Copaane sesquiterpenoids,Copacamphane sesquiterpenoids,Corynanthe type,Coumarinolignans,Coumaronochromones,Coumestan,Cryptophycins,Cubebane sesquiterpenoids,Cucurbitane triterpenoids,Cuparane sesquiterpenoids,Cyano esters,Cyanogenic glycosides,Cyanopeptolins,Cyathane diterpenoids,Cyclamides,Cyclic peptides,Cyclitols,Cycloabietane diterpenoids,Cycloamphilectane diterpenoids,Cycloapotirucallane triterpenoids,Cycloartane triterpenoids,Cyclobisabolane sesquiterpenoids,Cycloeudesmane sesquiterpenoids,Cyclofarnesane sesquiterpenoids,Cyclogermacrane sesquiterpenoids,Cyclolaurane sesquiterpenoids,Cyclonerane sesquiterpenoids,Cyclophytane diterpenoids,Cyclopiane diterpenoids,Cyclopiazonic acid-tpye tetramate alkaloids,Cytochalasan alkaloids,Cytosporins,DKXanthenes and derivatives,Dactylomelane diterpenoids,Dammarane and Protostane triterpenoids,Daphnane diterpenoids,Daucane sesquiterpenoids,Decalins with 2-pyrones,Decalins with side chains,Decipiane diterpenoids,Depsides and depsidones,Depsipeptides,Devadarane diterpenoids,Diacylglycerols,Dialkylresorcinols,Diarylether type diarylheptanoids,Dibenzocyclooctadienes lignans,Dibenzylbutane lignans,Dibenzylbutyrolactone lignans,Dicarboxylic acids,Dihydroflavonols,Dimeric phloroglucinols,Dipeptides,Disaccharides,\"Docosa-1,2-dioxolanes\",Dolabellane diterpenoids,Dolastane diterpenoids,Dolichols,Drimane sesquiterpenoids,Dunniane sesquiterpenoids,Ecdysteroids,\"Eicosa-1,2-dioxolanes\",Elemane sesquiterpenoids,Elfamycins,Enediynes,Epothilones,Epoxy fatty acids,Epoxyeicosatrienoic acids,Eremane diterpenoids,Eremophilane sesquiterpenoids,Ergostane steroids,Ergot alkaloids,Erythromycins,Erythroxylane diterpenoids,Estrane steroids,Eudesmane sesquiterpenoids,Eunicellane diterpenoids,Farnesane sesquiterpenoids,Fasamycins and derivatives,Fatty acid estolides,Fatty acyl CoAs,Fatty acyl carnitines,Fatty acyl glycosides of mono- and disaccharides,Fatty acyl homoserine lactones,Fatty alcohols,Fatty aldehydes,Fatty ethers,Fatty nitriles,Fenchane monoterpenoids,Fernane and Arborinane triterpenoids,Filicane triterpenoids,Flavan-3-ols,Flavandiols (Leucoanthocyanidins),Flavanones,Flavans,Flavones,Flavonolignans,Flavonols,Flavonostilbenes,Friedelane triterpenoids,Fukinane sesquiterpenoids,Furanoabietane diterpenoids,Furanoid lignans,Furocoumarins,Furofuranoid lignans,Furostane steroids,Fusicoccane diterpenoids,Fusidane triterpenoids,Gallotannins,Gammacerane triterpenoids,Germacrane sesquiterpenoids,Gersemiane diterpenoids,Gibberellins,Glucosinolates,Glutinane triterpenoids,Glycerophosphates,Glycerophosphocholines,Glycerophosphoethanolamines,Glycerophosphoglycerols,Glycerophosphoglycerophosphates,Glycerophosphoglycerophosphoglycerols,Glycerophosphoinositol phosphates,Glycerophosphoinositolglycans,Glycerophosphoinositols,Glycerophosphoserines,Glycosyldiacylglycerols,Glycosylglycerophospholipids,Glycosylmonoacylglycerols,Gorgonane sesquiterpenoids,Grayanotoxane diterpenoids,Griseofulvins,Guaiane sesquiterpenoids,Guanacastane diterpenoids,Gymnomitrane sesquiterpenoids,Halimane diterpenoids,Halogenated fatty acids,Hamigerane sesquiterpenoids,Hapalindole alkaloids,Hasubanan alkaloids,Hepoxilins,Herbertane sesquiterpenoids,Heterocyclic fatty acids,Himachalane sesquiterpenoids,Hirsutane sesquiterpenoids,Homofarnesane sesquiterpenoids,Hopane and Moretane triterpenoids,Humbertiane sesquiterpenoids,Humulane sesquiterpenoids,Hydrocarbons,Hydroperoxy fatty acids,Hydroxy fatty acids,Hydroxy-hydroperoxyeicosapentaenoic acids,Hydroxy-hydroperoxyeicosatetraenoic acids,Hydroxy-hydroperoxyeicosatrienoic acids,Iboga type,Icetexane diterpenoids,Illudalane sesquiterpenoids,Illudane sesquiterpenoids,Imidazole alkaloids,\"Indole diketopiperazine alkaloids (L-Trp, L-Ala)\",\"Indole diketopiperazine alkaloids (L-Trp, L-Pro)\",\"Indole diketopiperazine alkaloids (L-Trp, L-Trp)\",Indole-Diterpenoid alkaloids (Penitrems),Indolizidine alkaloids,Ingenane diterpenoids,Iphionane sesquiterpenoids,Iridoids monoterpenoids,Irregular monoterpenoids,Isariotin alkaloids,Ishwarane sesquiterpenoids,Isoaurones,Isocomane sesquiterpenoids,Isocoumarins,Isodaucane sesquiterpenoids,Isoflavanones,Isoflavones,Isofurans,Isoindole alkaloids,Isolactarane sesquiterpenoids,Isoprostanes,Isoquinoline alkaloids,Ivaxillarane sesquiterpenoids,Jasmonic acids,Jatrophane diterpenoids,Jatropholane diterpenoids,Kaurane and Phyllocladane diterpenoids,Kavalactones and derivatives,Kempane diterpenoids,Labdane diterpenoids,Lactam bearing macrolide lactones,Lactarane sesquiterpenoids,Lactones,Ladder polyethers,\"Lanostane, Tirucallane and Euphane triterpenoids\",Lathyrane diterpenoids,Laurane sesquiterpenoids,Leukotrienes,Levuglandins,Limonoids,Linear diarylheptanoids,Linear peptides,Linear polyenes,Linear sesterterpenoids,Linear tetronates,Lipopeptides,Lipoxins,Lippifoliane sesquiterpenoids,Lobane diterpenoids,Long-Chain Bicyclic Phosphotriester,Longibornane sesquiterpenoids,Longifolane sesquiterpenoids,Longipinane sesquiterpenoids,Luminacins and derivatives,Lupane triterpenoids,Macrocyclic tetramic acids,Macrolide lactams,Macrolide lactones,Macrotetrolides,Malabaricane triterpenoids,Maleidrides,Mangicol-type sesterterpenoids,Marasmane sesquiterpenoids,Maresins,Megastigmanes,Melithiazole and Myxothiazole derivatives,Menthane monoterpenoids,Meromonoterpenoids,Merosesquiterpenoids,Meroterpenoids with 5- or 6-membered ring,Meroterpenoids with bridged ring,Methoxy fatty acids,Methyl xanthones,Microcolins and mirabimids,Microcystins,Microginins,Minor lignans,Miscellaneous apocarotenoids,Miscellaneous meroterpenoids,Monacolins and Monacolin derivatives,Monoacylglycerols,Monoalkylresorcinols,Monocarbocyclic sesterterpenoids,Monocyclic guanidine alkaloids,Monocyclic monoterpenoids,Monomeric stilbenes,Monosaccharides,Morphinan alkaloids,Mulinane diterpenoids,Multiflorane triterpenoids,Mycolic acids,Mycosporine and Mycosporine-like amino acids,Myrsinane diterpenoids,N-acyl amines,N-acyl ethanolamines (endocannabinoids),Nagilactone diterpenoids,Naphthalenes and derivatives,Naphthoquinones,Nardosinane sesquiterpenoids,Neoflavonoids,Neohopane triterpenoids,Neolignans,Neurofurans,Neuroprostanes,Neutral glycosphingolipids,Nitro fatty acids,Norcembrane diterpenoids,Noreremophilane sesquiterpenoids,Noreudesmane sesquiterpenoids,Norkaurane diterpenoids,Norlabdane diterpenoids,Norpimarane and Norisopimarane diterpenoids,Norsesterterpenoids,Oblogolides,Obtusane diterpenoids,Oleanane triterpenoids,Oligomeric phloroglucinols (phlorotannins),Oligomeric stibenes,Oligomycins,Onocerane triterpenoids,Open-chain polyketides,Open-chained neoflavonoids,Ophiobolane sesterterpenoids,Oplopane sesquiterpenoids,Oppositane sesquiterpenoids,Other Docosanoids,Other Eicosanoids,Other Octadecanoids,Other indole diketopiperazine alkaloids,Other polyketide meroterpenoids,Oxa-Bridged Macrolides,Oxasqualenoids,Oxazole alkaloids,Oxidized glycerophospholipids,Oxo fatty acids,Oxygenated hydrocarbons,Pachydictyane diterpenoids,Pachysanane triterpenoids,Pacifigorgiane sesquiterpenoids,Panasinsane sesquiterpenoids,Paraconic acids and derivatives,Paraliane diterpenoids,Parguerane diterpenoids,Patchoulane sesquiterpenoids,Paulomycins and derivatives,Penicillins,Pentacyclic guanidine alkaloids,Pentalenane sesquiterpenoids,Pepluane diterpenoids,Perforane sesquiterpenoids,Phenazine alkaloids,Phenethylisoquinoline alkaloids,Phenoxazine alkaloids,Phenylalanine-derived alkaloids,Phenylethanoids,Phenylethylamines,Phloroglucinol-terpene hybrids,Phosphosphingolipids,Phthalide derivatives,Phytane diterpenoids,Phytofurans,Phytoprostanes,Picrotoxane sesquiterpenoids,Pimarane and Isopimarane diterpenoids,Pimprinine alkaloids,Pinane monoterpenoids,Pinguisane sesquiterpenoids,Piperidine alkaloids,Plant xanthones,Platensimycin and Platencins,Podocarpane diterpenoids,Polyamines,Polyene macrolides,Polyesters,Polyether ionophores,Polypodane triterpenoids,Polyprenylated cyclic polyketides (Hop meroterpenoids),Polysaccharides,Pradimicins,Pregnane steroids,Premyrsinane diterpenoids,Prenyl quinone meroterpenoids,\"Prenylated,geranylated phloroglucinols\",Prenylbisabolane diterpenoids,Prenyleudesmane diterpenoids,Presilphiperfolane and Probotryane sesquiterpenoids,Prezizaane sesquiterpenoids,Primary amides,Proanthocyanins,Prostaglandins,Protoberberine alkaloids,Protoilludane sesquiterpenoids,Protopine alkaloids,Pseudoguaiane sesquiterpenoids,Pseudopterane diterpenoids,Pterocarpan,Pulvinones,Purine alkaloids,Purine nucleosides,Purine nucleotides,Pyranocoumarins,Pyrazine and Piperazine alkaloids,Pyridine alkaloids,Pyrimidine nucleosides,Pyrimidine nucleotides,Pyrrocidine tetramate alkaloids,Pyrrole alkaloids,Pyrrolidine alkaloids,Pyrrolizidine alkaloids,Pyrroloindole alkaloids,Pyrroloquinoline alkaloids,Quadrane sesquiterpenoids,Quassinoids,Quinazoline alkaloids,Quinoline alkaloids,Quinolizidine alkaloids,Resin glycosides,Resolvin Ds,Resolvin Es,Rhamnofolane diterpenoids,Rhamnolipids,Rhizoxins,RiPPs,Rotenoids,Rotundane sesquiterpenoids,Sacculatane diterpenoids,Salinosporamides,Santalane sesquiterpenoids,Saponaceolide triterpenoids,Sativane sesquiterpenoids,Saxitoxins,Scalarane sesterterpenoids,Secoabietane diterpenoids,Secochamigrane sesquiterpenoids,Secoeudesmane sesquiterpenoids,Secogermacrane sesquiterpenoids,Secoiridoid monoterpenoids,Secokaurane diterpenoids,Secolabdane diterpenoids,Segetane diterpenoids,Selaginellins,Serratane triterpenoids,Serrulatane and Biflorane diterpenoids,Shikimic acids and derivatives,Shionane triterpenoids,Silphinane sesquiterpenoids,Silphiperfolane sesquiterpenoids,Simple aromatic polyketides,Simple coumarins,Simple cyclic polyketides,Simple diketopiperazine alkaloids,Simple indole alkaloids,Simple oxindole alkaloids,Simple phenolic acids,Sinularane sesquiterpenoids,Sophorolipids,Sorbicilinoids,Sphaerane diterpenoids,Sphaeroane diterpenoids,Sphenolobane diterpenoids,Sphingoid bases,Spiroaxane sesquiterpenoids,Spirodioxynaphthalenes,Spirostane steroids,Spirotetronate macrolides,Spirovetivane sesquiterpenoids,Spongiane diterpenoids,Spriromeroterpenoids,Stemona alkaloids,Steroidal alkaloids,Sterpurane sesquiterpenoids,Stictane triterpenoids,Stigmastane steroids,Stilbenolignans,Straight chain fatty acids,Streptogramins,Streptothricins and derivatives,Strobilurins and derivatives,Strychnos type,Tantazoles and mirabazoles,Taraxerane triterpenoids,Taxane diterpenoids,Terpenoid alkaloids,Terpenoid tetrahydroisoquinoline alkaloids,Tetracyclic diterpenoids,Tetracyclines,Tetrahydroisoquinoline alkaloids,Tetraketide meroterpenoids,Tetrodotoxins,Thapsane sesquiterpenoids,Thia fatty acids,Thiodiketopiperazine alkaloids,Thromboxanes,Thujane monoterpenoids,Thujopsane sesquiterpenoids,Tigliane diterpenoids,Totarane diterpenoids,Trachylobane diterpenoids,Tremulane sesquiterpenoids,Triacylglycerols,Trichothecane sesquiterpenoids,Tricyclic guanidine alkaloids,Triketide meroterpenoids,Trinervitane diterpenoids,Tripeptides,Tropane alkaloids,Tropolones and derivatives (PKS),Tropolones and derivatives (Shikimate),Tylosins,Unsaturated fatty acids,Ursane and Taraxastane triterpenoids,Valerane sesquiterpenoids,Valerenane sesquiterpenoids,Valparane diterpenoids,Vancomycins and Teicoplanins,Verrucosane diterpenoids,Verticillane diterpenoids,Villanovane diterpenoids,Viscidane diterpenoids,Vitamin D2 and derivatives,Vitamin D3 and derivatives,Wax diesters,Wax monoesters,Xeniaphyllane diterpenoids,Xenicane diterpenoids,Yohimbine-like alkaloids,Zearalenones,Zizaane sesquiterpenoids,m-Terphenyls,p-Terphenyls\n",
      "TVVCVBFBKHBZKH,COCC1CCC(C(C)C)C2CC(C)=CCC12,0,0,0,0,0,0,1,0,0,0,0,0,0,0,0,0,0,0,0,0,0,0,0,0,0,0,0,0,0,0,0,0,0,0,0,0,0,0,0,0,0,0,0,0,0,0,0,0,0,0,0,0,0,0,0,0,0,0,0,0,0,1,0,0,0,0,0,0,0,0,0,0,0,0,0,0,0,0,0,0,0,0,0,0,0,0,0,0,0,0,0,0,0,0,0,0,0,0,0,0,0,0,0,0,0,0,0,0,0,0,0,0,0,0,0,0,0,0,0,0,0,0,0,0,0,0,0,0,0,0,0,0,0,0,0,0,0,0,0,0,0,0,0,0,0,0,0,0,0,0,0,0,0,0,0,0,0,0,0,0,0,0,0,0,0,0,0,0,0,0,0,0,0,0,1,0,0,0,0,0,0,0,0,0,0,0,0,0,0,0,0,0,0,0,0,0,0,0,0,0,0,0,0,0,0,0,0,0,0,0,0,0,0,0,0,0,0,0,0,0,0,0,0,0,0,0,0,0,0,0,0,0,0,0,0,0,0,0,0,0,0,0,0,0,0,0,0,0,0,0,0,0,0,0,0,0,0,0,0,0,0,0,0,0,0,0,0,0,0,0,0,0,0,0,0,0,0,0,0,0,0,0,0,0,0,0,0,0,0,0,0,0,0,0,0,0,0,0,0,0,0,0,0,0,0,0,0,0,0,0,0,0,0,0,0,0,0,0,0,0,0,0,0,0,0,0,0,0,0,0,0,0,0,0,0,0,0,0,0,0,0,0,0,0,0,0,0,0,0,0,0,0,0,0,0,0,0,0,0,0,0,0,0,0,0,0,0,0,0,0,0,0,0,0,0,0,0,0,0,0,0,0,0,0,0,0,0,0,0,0,0,0,0,0,0,0,0,0,0,0,0,0,0,0,0,0,0,0,0,0,0,0,0,0,0,0,0,0,0,0,0,0,0,0,0,0,0,0,0,0,0,0,0,0,0,0,0,0,0,0,0,0,0,0,0,0,0,0,0,0,0,0,0,0,0,0,0,0,0,0,0,0,0,0,0,0,0,0,0,0,0,0,0,0,0,0,0,0,0,0,0,0,0,0,0,0,0,0,0,0,0,0,0,0,0,0,0,0,0,0,0,0,0,0,0,0,0,0,0,0,0,0,0,0,0,0,0,0,0,0,0,0,0,0,0,0,0,0,0,0,0,0,0,0,0,0,0,0,0,0,0,0,0,0,0,0,0,0,0,0,0,0,0,0,0,0,0,0,0,0,0,0,0,0,0,0,0,0,0,0,0,0,0,0,0,0,0,0,0,0,0,0,0,0,0,0,0,0,0,0,0,0,0,0,0,0,0,0,0,0,0,0,0,0,0,0,0,0,0,0,0,0,0,0,0,0,0,0,0,0,0,0,0,0,0,0,0,0,0,0,0,0,0,0,0,0,0,0,0,0,0,0,0,0,0,0,0,0,0,0,0,0,0,0,0,0,0,0,0,0,0,0,0,0,0,0,0,0,0,0,0,0,0,0,0,0,0,0,0,0,0,0,0,0,0,0,0,0,0,0,0,0,0,0,0,0,0,0,0,0,0,0,0,0,0,0,0,0,0,0,0,0,0,0,0,0,0,0,0,0,0,0,0,0,0,0,0,0,0,0\n",
      "ULIXMSJJLAGCBE,CC(C)=CCc1c(OC2OC(CO)C(O)C(O)C2OC2OC(CO)C(O)C(O)C2O)cc(O)c2c1OC(c1ccc(O)cc1)C(O)C2=O,0,0,0,0,0,1,0,0,0,0,0,0,0,0,0,0,0,0,0,0,0,0,0,0,0,0,0,0,0,1,0,0,0,0,0,0,0,0,0,0,0,0,0,0,0,0,0,0,0,0,0,0,0,0,0,0,0,0,0,0,0,0,0,0,0,0,0,0,0,0,0,0,0,0,0,0,0,0,0,0,0,0,0,0,0,0,0,0,0,0,0,0,0,0,0,0,0,0,0,0,0,0,0,0,0,0,0,0,0,0,0,0,0,0,0,0,0,0,0,0,0,0,0,0,0,0,0,0,0,0,0,0,0,0,0,0,0,0,0,0,0,0,0,0,0,0,0,0,0,0,0,0,0,0,0,0,0,0,0,0,0,0,0,0,0,0,0,0,0,0,0,0,0,0,0,0,0,0,0,0,0,0,0,0,0,0,0,0,0,0,0,0,0,0,0,0,0,0,0,0,0,0,0,0,0,0,0,0,0,0,0,0,0,0,0,0,0,0,0,0,0,0,0,0,0,0,0,0,0,0,0,0,0,0,0,0,0,0,0,0,0,0,0,0,0,0,0,0,0,0,0,0,0,0,0,0,0,0,0,0,0,0,0,0,0,0,0,0,0,0,0,0,0,0,0,0,0,0,0,0,0,0,0,0,0,0,0,0,0,0,0,1,0,0,0,0,0,0,0,0,0,0,0,0,0,0,0,0,0,0,0,0,0,0,0,0,0,0,0,0,0,0,0,0,0,0,0,0,0,0,0,0,0,0,0,0,0,0,0,0,0,0,0,0,0,0,0,0,0,0,0,0,0,0,0,0,0,0,0,0,0,0,0,0,0,0,0,0,0,0,0,0,0,0,0,0,0,0,0,0,0,0,0,0,0,0,0,0,0,0,0,0,0,0,0,0,0,0,0,0,0,0,0,0,0,0,0,0,0,0,0,0,0,0,0,0,0,0,0,0,0,0,0,0,0,0,0,0,0,0,0,0,0,0,0,0,0,0,0,0,0,0,0,0,0,0,0,0,0,0,0,0,0,0,0,0,0,0,0,0,0,0,0,0,0,0,0,0,0,0,0,0,0,0,0,0,0,0,0,0,0,0,0,0,0,0,0,0,0,0,0,0,0,0,0,0,0,0,0,0,0,0,0,0,0,0,0,0,0,0,0,0,0,0,0,0,0,0,0,0,0,0,0,0,0,0,0,0,0,0,0,0,0,0,0,0,0,0,0,0,0,0,0,0,0,0,0,0,0,0,0,0,0,0,0,0,0,0,0,0,0,0,0,0,0,0,0,0,0,0,0,0,0,0,0,0,0,0,0,0,0,0,0,0,0,0,0,0,0,0,0,0,0,0,0,0,0,0,0,0,0,0,0,0,0,0,0,0,0,0,0,0,0,0,0,0,0,0,0,0,0,0,0,0,0,0,0,0,0,0,0,0,0,0,0,0,0,0,0,0,0,0,0,0,0,0,0,0,0,0,0,0,0,0,0,0,0,0,0,0,0,0,0,0,0,0,0,0,0,0,0,0,0,0,0,0,0,0,0,0,0,0,0,0,0,0,0,0,0,0,0,0,0,0,0,0,0,0,0,0,0,0,0,0,0,0,0,0,0,0,0,0,0,0,0,0,0,0,0,0,0,0,0,0,0,0,0,0,0,0\n",
      "LUTDGEPORDLYCA,CO[C@H]1[C@H]2CC[C@@H]3[C@H](CC[C@]4(C)[C@@H](C(C)=O)CC[C@@H]34)[C@@]2(C)CC[C@@H]1O,0,0,0,0,0,0,1,0,0,0,0,0,0,0,0,0,0,0,0,0,0,0,0,0,0,0,0,0,0,0,0,0,0,0,0,0,0,0,0,0,0,0,0,0,0,0,0,0,0,0,0,0,0,0,0,0,0,0,0,0,0,0,0,0,0,1,0,0,0,0,0,0,0,0,0,0,0,0,0,0,0,0,0,0,0,0,0,0,0,0,0,0,0,0,0,0,0,0,0,0,0,0,0,0,0,0,0,0,0,0,0,0,0,0,0,0,0,0,0,0,0,0,0,0,0,0,0,0,0,0,0,0,0,0,0,0,0,0,0,0,0,0,0,0,0,0,0,0,0,0,0,0,0,0,0,0,0,0,0,0,0,0,0,0,0,0,0,0,0,0,0,0,0,0,0,0,0,0,0,0,0,0,0,0,0,0,0,0,0,0,0,0,0,0,0,0,0,0,0,0,0,0,0,0,0,0,0,0,0,0,0,0,0,0,0,0,0,0,0,0,0,0,0,0,0,0,0,0,0,0,0,0,0,0,0,0,0,0,0,0,0,0,0,0,0,0,0,0,0,0,0,0,0,0,0,0,0,0,0,0,0,0,0,0,0,0,0,0,0,0,0,0,0,0,0,0,0,0,0,0,0,0,0,0,0,0,0,0,0,0,0,0,0,0,0,0,0,0,0,0,0,0,0,0,0,0,0,0,0,0,0,0,0,0,0,0,0,0,0,0,0,0,0,0,0,0,0,0,0,0,0,0,0,0,0,0,0,0,0,0,0,0,0,0,0,0,0,0,0,0,0,0,0,0,0,0,0,0,0,0,0,0,0,0,0,0,0,0,0,0,0,0,0,0,0,0,0,0,0,0,0,0,0,0,0,0,0,0,0,0,0,0,0,0,0,0,0,0,0,0,0,0,0,0,0,0,0,0,0,0,0,0,0,0,0,0,0,0,0,0,0,0,0,0,0,0,0,0,0,0,0,0,0,0,0,0,0,0,0,0,0,0,0,0,0,0,0,0,0,0,0,0,0,0,0,0,0,0,0,0,0,0,0,0,0,0,0,0,0,0,0,0,0,0,0,0,0,0,0,0,0,0,0,0,0,0,0,0,0,0,0,0,0,0,0,0,0,0,0,0,0,0,0,0,0,0,0,0,0,0,0,0,0,0,0,0,0,0,0,0,0,0,0,0,0,0,0,0,0,0,0,0,0,0,0,0,0,0,0,0,0,0,0,0,0,0,0,0,0,0,0,0,0,0,0,0,0,0,0,0,0,0,0,0,0,0,0,0,0,0,0,0,0,0,0,0,0,0,0,1,0,0,0,0,0,0,0,0,0,0,0,0,0,0,0,0,0,0,0,0,0,0,0,0,0,0,0,0,0,0,0,0,0,0,0,0,0,0,0,0,0,0,0,0,0,0,0,0,0,0,0,0,0,0,0,0,0,0,0,0,0,0,0,0,0,0,0,0,0,0,0,0,0,0,0,0,0,0,0,0,0,0,0,0,0,0,0,0,0,0,0,0,0,0,0,0,0,0,0,0,0,0,0,0,0,0,0,0,0,0,0,0,0,0,0,0,0,0,0,0,0,0,0,0,0,0,0,0,0,0,0,0,0,0,0,0,0,0,0,0,0,0,0,0,0,0,0,0,0,0\n",
      "NBRFVCJTMJIBKV,CCCCC/C=C\\C/C=C\\CCCCCCCCCC(=O)OC[C@H](COP(=O)(O)OC[C@@H](O)COC)OC(=O)CCCCCCCCCCCCCCCCC,0,0,0,1,0,0,0,0,0,0,0,0,0,0,0,0,0,0,0,0,0,0,0,0,0,0,0,0,0,0,0,0,1,0,0,0,0,0,0,0,0,0,0,0,0,0,0,0,0,0,0,0,0,0,0,0,0,0,0,0,0,0,0,0,0,0,0,0,0,0,0,0,0,0,0,0,0,0,0,0,0,0,0,0,0,0,0,0,0,0,0,0,0,0,0,0,0,0,0,0,0,0,0,0,0,0,0,0,0,0,0,0,0,0,0,0,0,0,0,0,0,0,0,0,0,0,0,0,0,0,0,0,0,0,0,0,0,0,0,0,0,0,0,0,0,0,0,0,0,0,0,0,0,0,0,0,0,0,0,0,0,0,0,0,0,0,0,0,0,0,0,0,0,0,0,0,0,0,0,0,0,0,0,0,0,0,0,0,0,0,0,0,0,0,0,0,0,0,0,0,0,0,0,0,0,0,0,0,0,0,0,0,0,0,0,0,0,0,0,0,0,0,0,0,0,0,0,0,0,0,0,0,0,0,0,0,0,0,0,0,0,0,0,0,0,0,0,0,0,0,0,0,0,0,0,0,0,0,0,0,0,0,0,0,0,0,0,0,0,0,0,0,0,0,0,0,0,0,0,0,0,0,0,0,0,0,0,0,0,0,0,0,0,0,0,0,0,0,0,0,0,0,0,0,0,0,0,0,0,0,0,0,0,0,0,0,0,0,0,0,0,0,0,0,0,0,0,0,0,0,0,0,0,0,0,0,0,0,0,0,0,0,0,0,0,0,0,0,0,0,0,0,0,0,0,0,0,0,0,1,0,0,0,0,0,0,0,0,0,0,0,0,0,0,0,0,0,0,0,0,0,0,0,0,0,0,0,0,0,0,0,0,0,0,0,0,0,0,0,0,0,0,0,0,0,0,0,0,0,0,0,0,0,0,0,0,0,0,0,0,0,0,0,0,0,0,0,0,0,0,0,0,0,0,0,0,0,0,0,0,0,0,0,0,0,0,0,0,0,0,0,0,0,0,0,0,0,0,0,0,0,0,0,0,0,0,0,0,0,0,0,0,0,0,0,0,0,0,0,0,0,0,0,0,0,0,0,0,0,0,0,0,0,0,0,0,0,0,0,0,0,0,0,0,0,0,0,0,0,0,0,0,0,0,0,0,0,0,0,0,0,0,0,0,0,0,0,0,0,0,0,0,0,0,0,0,0,0,0,0,0,0,0,0,0,0,0,0,0,0,0,0,0,0,0,0,0,0,0,0,0,0,0,0,0,0,0,0,0,0,0,0,0,0,0,0,0,0,0,0,0,0,0,0,0,0,0,0,0,0,0,0,0,0,0,0,0,0,0,0,0,0,0,0,0,0,0,0,0,0,0,0,0,0,0,0,0,0,0,0,0,0,0,0,0,0,0,0,0,0,0,0,0,0,0,0,0,0,0,0,0,0,0,0,0,0,0,0,0,0,0,0,0,0,0,0,0,0,0,0,0,0,0,0,0,0,0,0,0,0,0,0,0,0,0,0,0,0,0,0,0,0,0,0,0,0,0,0,0,0,0,0,0,0,0,0,0,0,0,0,0,0,0,0,0,0,0,0,0,0,0,0,0,0,0,0,0,0,0,0,0,0,0,0,0,0,0,0,0,0\n",
      "KQNLGZBMECNBDT,CCCCC/C=C\\C/C=C\\C/C=C\\CCCCC(=O)O[C@H](COC(=O)CCCCCCC/C=C\\CCCCCCC)COC(=O)CCCCCCCCC/C=C\\C/C=C\\CCCCC,0,0,0,1,0,0,0,0,0,0,0,0,0,0,0,0,0,0,0,0,0,0,0,0,0,0,0,0,0,0,0,1,0,0,0,0,0,0,0,0,0,0,0,0,0,0,0,0,0,0,0,0,0,0,0,0,0,0,0,0,0,0,0,0,0,0,0,0,0,0,0,0,0,0,0,0,0,0,0,0,0,0,0,0,0,0,0,0,0,0,0,0,0,0,0,0,0,0,0,0,0,0,0,0,0,0,0,0,0,0,0,0,0,0,0,0,0,0,0,0,0,0,0,0,0,0,0,0,0,0,0,0,0,0,0,0,0,0,0,0,0,0,0,0,0,0,0,0,0,0,0,0,0,0,0,0,0,0,0,0,0,0,0,0,0,0,0,0,0,0,0,0,0,0,0,0,0,0,0,0,0,0,0,0,0,0,0,0,0,0,0,0,0,0,0,0,0,0,0,0,0,0,0,0,0,0,0,0,0,0,0,0,0,0,0,0,0,0,0,0,0,0,0,0,0,0,0,0,0,0,0,0,0,0,0,0,0,0,0,0,0,0,0,0,0,0,0,0,0,0,0,0,0,0,0,0,0,0,0,0,0,0,0,0,0,0,0,0,0,0,0,0,0,0,0,0,0,0,0,0,0,0,0,0,0,0,0,0,0,0,0,0,0,0,0,0,0,0,0,0,0,0,0,0,0,0,0,0,0,0,0,0,0,0,0,0,0,0,0,0,0,0,0,0,0,0,0,0,0,0,0,0,0,0,0,0,0,0,0,0,0,0,0,0,0,0,0,0,0,0,0,0,0,0,0,0,0,0,0,0,0,0,0,0,0,0,0,0,0,0,0,0,0,0,0,0,0,0,0,0,0,0,0,0,0,0,0,0,0,0,0,0,0,0,0,0,0,0,0,0,0,0,0,0,0,0,0,0,0,0,0,0,0,0,0,0,0,0,0,0,0,0,0,0,0,0,0,0,0,0,0,0,0,0,0,0,0,0,0,0,0,0,0,0,0,0,0,0,0,0,0,0,0,0,0,0,0,0,0,0,0,0,0,0,0,0,0,0,0,0,0,0,0,0,0,0,0,0,0,0,0,0,0,0,0,0,0,0,0,0,0,0,0,0,0,0,0,0,0,0,0,0,0,0,0,0,0,0,0,0,0,0,0,0,0,0,0,0,0,0,0,0,0,0,0,0,0,0,0,0,0,0,0,0,0,0,0,0,0,0,0,0,0,0,0,0,0,0,0,0,0,0,0,0,0,0,0,0,0,0,0,0,0,0,0,0,0,0,0,0,0,0,0,0,0,0,0,0,0,0,0,0,0,0,0,0,0,0,0,0,0,0,0,0,0,0,0,0,0,0,0,0,0,0,0,0,0,0,0,0,0,0,0,0,0,0,0,0,0,0,0,0,0,0,0,0,0,0,0,0,0,0,0,0,0,0,0,0,0,0,0,0,0,0,0,0,0,0,0,0,0,0,0,0,0,0,0,0,0,0,0,0,0,0,0,0,0,0,0,0,0,0,0,0,0,0,0,0,0,0,0,0,0,0,0,0,0,0,0,0,0,0,0,0,0,0,0,0,0,1,0,0,0,0,0,0,0,0,0,0,0,0,0,0,0,0,0,0,0,0,0,0,0,0,0,0,0,0,0,0\n",
      "BCZNDYQUMVSIKO,COC1C(O)CC2(C)C3CCC4CC3(C=C4C)CCC2C1(C)C,0,0,0,0,0,0,1,0,0,0,0,0,0,0,0,0,0,0,0,0,0,1,0,0,0,0,0,0,0,0,0,0,0,0,0,0,0,0,0,0,0,0,0,0,0,0,0,0,0,0,0,0,0,0,0,0,0,0,0,0,0,0,0,0,0,0,0,0,0,0,0,0,0,0,0,0,0,0,0,0,0,0,0,0,0,0,0,0,0,0,0,0,0,0,0,0,0,0,0,0,0,0,0,0,0,0,0,0,0,0,0,0,0,0,0,0,0,0,0,0,0,0,0,0,0,0,0,0,0,0,0,0,0,0,0,0,0,0,0,0,0,0,0,0,0,0,0,0,0,0,0,0,0,0,0,0,0,0,0,0,0,0,0,0,0,0,0,0,0,0,0,0,0,0,0,0,0,0,0,0,0,0,0,0,0,0,0,0,0,0,0,0,0,0,0,0,0,0,0,0,0,0,0,0,0,0,0,0,0,0,0,0,0,0,0,0,0,0,0,0,0,0,0,0,0,0,0,0,0,0,0,0,0,0,0,0,0,0,0,0,0,0,0,0,0,0,0,0,0,0,0,0,0,0,0,0,0,0,0,0,0,0,0,0,0,0,0,0,0,0,0,0,0,0,0,0,0,0,0,0,0,0,0,0,0,0,0,0,0,0,0,0,0,0,0,0,0,0,0,0,0,0,0,0,0,0,0,0,0,0,0,0,0,0,0,0,0,0,0,0,0,0,0,0,0,0,0,0,0,0,0,0,0,0,0,0,0,0,0,0,0,0,0,0,0,0,0,0,0,0,0,0,0,0,0,0,0,0,0,0,0,0,0,0,0,0,0,0,0,0,0,0,0,0,0,0,0,0,0,0,0,0,0,0,0,0,0,0,0,0,0,0,0,0,0,0,0,0,0,0,0,0,0,0,0,0,0,0,0,0,0,0,0,0,0,0,0,0,0,0,0,0,0,0,0,0,1,0,0,0,0,0,0,0,0,0,0,0,0,0,0,0,0,0,0,0,0,0,0,0,0,0,0,0,0,0,0,0,0,0,0,0,0,0,0,0,0,0,0,0,0,0,0,0,0,0,0,0,0,0,0,0,0,0,0,0,0,0,0,0,0,0,0,0,0,0,0,0,0,0,0,0,0,0,0,0,0,0,0,0,0,0,0,0,0,0,0,0,0,0,0,0,0,0,0,0,0,0,0,0,0,0,0,0,0,0,0,0,0,0,0,0,0,0,0,0,0,0,0,0,0,0,0,0,0,0,0,0,0,0,0,0,0,0,0,0,0,0,0,0,0,0,0,0,0,0,0,0,0,0,0,0,0,0,0,0,0,0,0,0,0,0,0,0,0,0,0,0,0,0,0,0,0,0,0,0,0,0,0,0,0,0,0,0,0,0,0,0,0,0,0,0,0,0,0,0,0,0,0,0,0,0,0,0,0,0,0,0,0,0,0,0,0,0,0,0,0,0,0,0,0,0,0,0,0,0,0,0,0,0,0,0,0,0,0,0,0,0,0,0,0,0,0,0,0,0,0,0,0,0,0,0,0,0,0,0,0,0,0,0,0,0,0,0,0,0,0,0,0,0,0,0,0,0,0,0,0,0,0,0,0,0,0,0,0,0,0,0,0,0,0,0,0,0,0,0,0,0,0,0\n",
      "BABHYNZJQMAKHY,COc1cccc(C2CN(C)C(C(C)(C)C)O2)c1,1,0,0,0,0,0,0,0,0,0,0,0,0,0,0,0,0,0,0,0,0,0,0,0,0,0,0,0,0,0,0,0,0,0,0,0,0,0,0,0,0,0,0,0,0,0,0,0,0,0,0,0,0,0,0,0,0,0,0,0,0,0,0,0,0,0,0,0,0,0,0,0,0,1,0,0,0,0,0,0,0,0,0,0,0,0,0,0,0,0,0,0,0,0,0,0,0,0,0,0,0,0,0,0,0,0,0,0,0,0,0,0,0,0,0,0,0,0,0,0,0,0,0,0,0,0,0,0,0,0,0,0,0,0,0,0,0,0,0,0,0,0,0,0,0,0,0,0,0,0,0,0,0,0,0,0,0,0,0,0,0,0,0,0,0,0,0,0,0,0,0,0,0,0,0,0,0,0,0,0,0,0,0,0,0,0,0,0,0,0,0,0,0,0,0,0,0,0,0,0,0,0,0,0,0,0,0,0,0,0,0,0,0,0,0,0,0,0,0,0,0,0,0,0,0,0,0,0,0,0,0,0,0,0,0,0,0,0,0,0,0,0,0,0,0,0,0,0,0,0,0,0,0,0,0,0,0,0,0,0,0,0,0,0,0,0,0,0,0,0,0,0,0,0,0,0,0,0,0,0,0,0,0,0,0,0,0,0,0,0,0,0,0,0,0,0,0,0,0,0,0,0,0,0,0,0,0,0,0,0,0,0,0,0,0,0,0,0,0,0,0,0,0,0,0,0,0,0,0,0,0,0,0,0,0,0,0,0,0,0,0,0,0,0,0,0,0,0,0,0,0,0,0,0,0,0,0,0,0,0,0,0,0,0,0,0,0,0,0,0,0,0,0,0,0,0,0,0,0,0,0,0,0,0,0,0,0,0,0,0,0,0,0,0,0,0,0,0,0,0,0,0,0,0,0,0,0,0,0,0,0,0,0,0,0,0,0,0,0,0,0,0,0,0,0,0,0,0,0,0,0,0,0,0,0,0,0,0,0,0,0,0,0,0,0,0,0,0,0,0,0,0,0,0,0,0,0,0,0,0,0,0,0,0,0,0,0,0,0,0,0,0,0,0,0,0,0,0,0,0,0,0,0,0,0,0,0,0,0,0,0,0,0,0,0,0,0,0,0,0,0,0,0,0,0,0,0,0,0,0,0,0,0,0,0,0,0,0,0,0,0,0,0,0,0,0,0,0,0,0,0,0,0,0,0,0,0,0,0,0,0,0,0,0,0,0,0,0,0,0,0,0,0,0,0,1,0,0,0,0,0,0,0,0,0,0,0,0,0,0,0,0,0,0,0,0,0,0,0,0,0,0,0,0,0,0,0,0,0,0,0,0,0,0,0,0,0,0,0,0,0,0,0,0,0,0,0,0,0,0,0,0,0,0,0,0,0,0,0,0,0,0,0,0,0,0,0,0,0,0,0,0,0,0,0,0,0,0,0,0,0,0,0,0,0,0,0,0,0,0,0,0,0,0,0,0,0,0,0,0,0,0,0,0,0,0,0,0,0,0,0,0,0,0,0,0,0,0,0,0,0,0,0,0,0,0,0,0,0,0,0,0,0,0,0,0,0,0,0,0,0,0,0,0,0,0,0,0,0,0,0,0,0,0,0,0,0,0,0,0,0,0,0,0,0,0,0,0,0,0\n",
      "QUWUCBOLPWPPSI,COC12OC3(O)C(=O)C4=C(O)C(=O)C5C(C5(C)C)C4(C)C(C)C3C1C(C)C1(C)C(=C(O)C(=O)C3C1C3(C)C)C2=O,0,0,0,0,0,0,1,0,0,0,0,0,0,0,0,0,0,0,0,0,0,0,0,0,0,0,0,0,0,0,0,0,0,0,0,0,0,0,0,0,0,0,0,0,0,0,0,0,0,0,0,0,0,0,0,0,0,0,0,0,0,1,0,0,0,0,0,0,0,0,0,0,0,0,0,0,0,0,0,0,0,0,0,0,0,0,0,0,0,0,0,0,0,0,0,0,0,0,0,0,0,0,0,0,0,0,0,0,0,0,0,0,0,0,0,0,0,0,0,0,0,0,0,0,0,0,0,0,0,0,1,0,0,0,0,0,0,0,0,0,0,0,0,0,0,0,0,0,0,0,0,0,0,0,0,0,0,0,0,0,0,0,0,0,0,0,0,0,0,0,0,0,0,0,0,0,0,0,0,0,0,0,0,0,0,0,0,0,0,0,0,0,0,0,0,0,0,0,0,0,0,0,0,0,0,0,0,0,0,0,0,0,0,0,0,0,0,0,0,0,0,0,0,0,0,0,0,0,0,0,0,0,0,0,0,0,0,0,0,0,0,0,0,0,0,0,0,0,0,0,0,0,0,0,0,0,0,0,0,0,0,0,0,0,0,0,0,0,0,0,0,0,0,0,0,0,0,0,0,0,0,0,0,0,0,0,0,0,0,0,0,0,0,0,0,0,0,0,0,0,0,0,0,0,0,0,0,0,0,0,0,0,0,0,0,0,0,0,0,0,0,0,0,0,0,0,0,0,0,0,0,0,0,0,0,0,0,0,0,0,0,0,0,0,0,0,0,0,0,0,0,0,0,0,0,0,0,0,0,0,0,0,0,0,0,0,0,0,0,0,0,0,0,0,0,0,0,0,0,0,0,0,0,0,0,0,0,0,0,0,0,0,0,0,0,0,0,0,0,0,0,0,0,0,0,0,0,0,0,0,0,0,0,0,0,0,0,0,0,0,0,0,0,0,0,0,0,0,0,0,0,0,0,0,0,0,0,0,0,0,0,0,0,0,0,0,0,0,0,0,0,0,0,0,0,0,0,0,0,0,0,0,0,0,0,0,0,0,0,0,0,0,0,0,0,0,0,0,0,0,0,0,0,0,0,0,0,0,0,0,0,0,0,0,0,0,0,0,0,0,0,0,0,0,0,0,0,0,0,0,0,0,0,0,0,0,0,0,0,0,0,0,0,0,0,0,0,0,0,0,0,0,0,0,0,0,0,0,0,0,0,0,0,0,0,0,0,0,0,0,0,0,0,0,0,0,0,0,0,0,0,0,0,0,0,0,0,0,0,0,0,0,0,0,0,0,0,0,0,0,0,0,0,0,0,0,0,0,0,0,0,0,0,0,0,0,0,0,0,0,0,0,0,0,0,0,0,0,0,0,0,0,0,0,0,0,0,0,0,0,0,0,0,0,0,0,0,0,0,0,0,0,0,0,0,0,0,0,0,0,0,0,0,0,0,0,0,0,0,0,0,0,0,0,0,0,0,0,0,0,0,0,0,0,0,0,0,0,0,0,0,0,0,0,0,0,0,0,0,0,0,0,0,0,0,0,0,0,0,0,0,0,0,0,0,0,0,0,0,0,0,0,0,0,0,0,0,0,0,0,0,0,0,0,0,0,0,0,0,0,0,0,0,0,0,0,0,0,0,0\n",
      "YMKYDIRQAOOSOW,CCCCCCCCCCCCCCC(COC[C@H](COP(=O)(O)OC[C@H](N)C(=O)O)OC)OC,0,0,0,1,0,0,0,0,0,0,0,0,0,0,0,0,0,0,0,0,0,0,0,0,0,0,0,0,0,0,0,0,1,0,0,0,0,0,0,0,0,0,0,0,0,0,0,0,0,0,0,0,0,0,0,0,0,0,0,0,0,0,0,0,0,0,0,0,0,0,0,0,0,0,0,0,0,0,0,0,0,0,0,0,0,0,0,0,0,0,0,0,0,0,0,0,0,0,0,0,0,0,0,0,0,0,0,0,0,0,0,0,0,0,0,0,0,0,0,0,0,0,0,0,0,0,0,0,0,0,0,0,0,0,0,0,0,0,0,0,0,0,0,0,0,0,0,0,0,0,0,0,0,0,0,0,0,0,0,0,0,0,0,0,0,0,0,0,0,0,0,0,0,0,0,0,0,0,0,0,0,0,0,0,0,0,0,0,0,0,0,0,0,0,0,0,0,0,0,0,0,0,0,0,0,0,0,0,0,0,0,0,0,0,0,0,0,0,0,0,0,0,0,0,0,0,0,0,0,0,0,0,0,0,0,0,0,0,0,0,0,0,0,0,0,0,0,0,0,0,0,0,0,0,0,0,0,0,0,0,0,0,0,0,0,0,0,0,0,0,0,0,0,0,0,0,0,0,0,0,0,0,0,0,0,0,0,0,0,0,0,0,0,0,0,0,0,0,0,0,0,0,0,0,0,0,0,0,0,0,0,0,0,0,0,0,0,0,0,0,0,0,0,0,0,0,0,0,0,0,0,0,0,0,0,0,0,0,0,0,0,0,0,0,0,0,0,0,0,0,0,0,0,0,0,0,0,0,0,0,0,0,0,0,0,1,0,0,0,0,0,0,0,0,0,0,0,0,0,0,0,0,0,0,0,0,0,0,0,0,0,0,0,0,0,0,0,0,0,0,0,0,0,0,0,0,0,0,0,0,0,0,0,0,0,0,0,0,0,0,0,0,0,0,0,0,0,0,0,0,0,0,0,0,0,0,0,0,0,0,0,0,0,0,0,0,0,0,0,0,0,0,0,0,0,0,0,0,0,0,0,0,0,0,0,0,0,0,0,0,0,0,0,0,0,0,0,0,0,0,0,0,0,0,0,0,0,0,0,0,0,0,0,0,0,0,0,0,0,0,0,0,0,0,0,0,0,0,0,0,0,0,0,0,0,0,0,0,0,0,0,0,0,0,0,0,0,0,0,0,0,0,0,0,0,0,0,0,0,0,0,0,0,0,0,0,0,0,0,0,0,0,0,0,0,0,0,0,0,0,0,0,0,0,0,0,0,0,0,0,0,0,0,0,0,0,0,0,0,0,0,0,0,0,0,0,0,0,0,0,0,0,0,0,0,0,0,0,0,0,0,0,0,0,0,0,0,0,0,0,0,0,0,0,0,0,0,0,0,0,0,0,0,0,0,0,0,0,0,0,0,0,0,0,0,0,0,0,0,0,0,0,0,0,0,0,0,0,0,0,0,0,0,0,0,0,0,0,0,0,0,0,0,0,0,0,0,0,0,0,0,0,0,0,0,0,0,0,0,0,0,0,0,0,0,0,0,0,0,0,0,0,0,0,0,0,0,0,0,0,0,0,0,0,0,0,0,0,0,0,0,0,0,0,0,0,0,0,0,0,0,0,0,0,0,0,0,0,0,0\n"
     ]
    }
   ],
   "source": [
    "!head -n 10 merged_dataset.csv"
   ]
  },
  {
   "cell_type": "code",
   "execution_count": 1,
   "id": "f5fb921d",
   "metadata": {},
   "outputs": [
    {
     "name": "stderr",
     "output_type": "stream",
     "text": [
      "/home/jcapela/.local/share/mamba/envs/np_benchmark/lib/python3.10/site-packages/tqdm/auto.py:21: TqdmWarning: IProgress not found. Please update jupyter and ipywidgets. See https://ipywidgets.readthedocs.io/en/stable/user_install.html\n",
      "  from .autonotebook import tqdm as notebook_tqdm\n"
     ]
    }
   ],
   "source": [
    "from deepmol.loaders import CSVLoader\n",
    "\n",
    "\n",
    "dataset = CSVLoader(dataset_path=\"merged_dataset.csv\", smiles_field=\"SMILES\", id_field=\"key\").create_dataset()"
   ]
  },
  {
   "cell_type": "code",
   "execution_count": null,
   "id": "0ac4f205",
   "metadata": {},
   "outputs": [],
   "source": [
    "import os\n",
    "from deepmol.compound_featurization import LLM\n",
    "from transformers import BertConfig, BertModel\n",
    "\n",
    "from deepmol.standardizer import ChEMBLStandardizer\n",
    "\n",
    "from deepmol.tokenizers import NPBERTTokenizer\n",
    "\n",
    "transformer = LLM(model_path=\"../NPBERT\", model=BertModel, config_class=BertConfig,\n",
    "                          tokenizer=NPBERTTokenizer(vocab_file=os.path.join(\"../NPBERT\", \"vocab.txt\")), device=\"cuda:0\")\n",
    "\n",
    "\n",
    "ChEMBLStandardizer().standardize(dataset, inplace=True)\n",
    "# Featurize the datasets\n",
    "transformer.featurize(dataset, inplace=True)\n"
   ]
  },
  {
   "cell_type": "code",
   "execution_count": null,
   "id": "fcfca001",
   "metadata": {},
   "outputs": [
    {
     "name": "stderr",
     "output_type": "stream",
     "text": [
      "/home/jcapela/.local/share/mamba/envs/np_benchmark/lib/python3.10/site-packages/tqdm/auto.py:21: TqdmWarning: IProgress not found. Please update jupyter and ipywidgets. See https://ipywidgets.readthedocs.io/en/stable/user_install.html\n",
      "  from .autonotebook import tqdm as notebook_tqdm\n"
     ]
    }
   ],
   "source": [
    "from deepmol.loaders import CSVLoader\n",
    "\n",
    "\n",
    "test_dataset = CSVLoader(dataset_path=\"test_dataset.csv\", smiles_field=\"SMILES\", id_field=\"key\").create_dataset()"
   ]
  },
  {
   "cell_type": "code",
   "execution_count": null,
   "id": "cfcd5473",
   "metadata": {},
   "outputs": [
    {
     "name": "stderr",
     "output_type": "stream",
     "text": [
      "No normalization for SPS. Feature removed!\n",
      "No normalization for AvgIpc. Feature removed!\n",
      "2025-06-30 17:53:45.696526: E external/local_xla/xla/stream_executor/cuda/cuda_dnn.cc:9261] Unable to register cuDNN factory: Attempting to register factory for plugin cuDNN when one has already been registered\n",
      "2025-06-30 17:53:45.696577: E external/local_xla/xla/stream_executor/cuda/cuda_fft.cc:607] Unable to register cuFFT factory: Attempting to register factory for plugin cuFFT when one has already been registered\n",
      "2025-06-30 17:53:45.697930: E external/local_xla/xla/stream_executor/cuda/cuda_blas.cc:1515] Unable to register cuBLAS factory: Attempting to register factory for plugin cuBLAS when one has already been registered\n",
      "2025-06-30 17:53:45.705584: I tensorflow/core/platform/cpu_feature_guard.cc:182] This TensorFlow binary is optimized to use available CPU instructions in performance-critical operations.\n",
      "To enable the following instructions: AVX2 AVX512F FMA, in other operations, rebuild TensorFlow with the appropriate compiler flags.\n",
      "2025-06-30 17:53:46.516266: W tensorflow/compiler/tf2tensorrt/utils/py_utils.cc:38] TF-TRT Warning: Could not find TensorRT\n"
     ]
    },
    {
     "name": "stdout",
     "output_type": "stream",
     "text": [
      "WARNING:tensorflow:From /home/jcapela/.local/share/mamba/envs/np_benchmark/lib/python3.10/site-packages/tensorflow/python/util/deprecation.py:588: calling function (from tensorflow.python.eager.polymorphic_function.polymorphic_function) with experimental_relax_shapes is deprecated and will be removed in a future version.\n",
      "Instructions for updating:\n",
      "experimental_relax_shapes is deprecated, use reduce_retracing instead\n"
     ]
    },
    {
     "name": "stderr",
     "output_type": "stream",
     "text": [
      "Skipped loading modules with pytorch-lightning dependency, missing a dependency. No module named 'lightning'\n",
      "Skipped loading some Jax models, missing a dependency. No module named 'jax'\n",
      "/home/jcapela/.local/share/mamba/envs/np_benchmark/lib/python3.10/site-packages/deepmol/compound_featurization/__init__.py:20: UserWarning: Mol2Vec not available. Please install it to use it. (pip install git+https://github.com/samoturk/mol2vec#egg=mol2vec)\n",
      "  warnings.warn(\"Mol2Vec not available. Please install it to use it. \"\n",
      "Some weights of BertModel were not initialized from the model checkpoint at ../NPBERT/model.pt and are newly initialized: ['pooler.dense.bias', 'pooler.dense.weight']\n",
      "You should probably TRAIN this model on a down-stream task to be able to use it for predictions and inference.\n"
     ]
    },
    {
     "name": "stdout",
     "output_type": "stream",
     "text": [
      "2025-06-30 17:53:50,285 — INFO — Standardizer ChEMBLStandardizer initialized with -1 jobs.\n"
     ]
    },
    {
     "name": "stderr",
     "output_type": "stream",
     "text": [
      "ChEMBLStandardizer: 100%|██████████| 15541/15541 [02:37<00:00, 98.48it/s] \n",
      "100%|██████████| 15541/15541 [01:44<00:00, 148.61it/s]\n"
     ]
    }
   ],
   "source": [
    "import os\n",
    "from deepmol.compound_featurization import LLM\n",
    "from transformers import BertConfig, BertModel\n",
    "\n",
    "from deepmol.standardizer import ChEMBLStandardizer\n",
    "\n",
    "from deepmol.tokenizers import NPBERTTokenizer\n",
    "\n",
    "transformer = LLM(model_path=\"../NPBERT\", model=BertModel, config_class=BertConfig,\n",
    "                          tokenizer=NPBERTTokenizer(vocab_file=os.path.join(\"../NPBERT\", \"vocab.txt\")), device=\"cuda:0\")\n",
    "\n",
    "\n",
    "ChEMBLStandardizer().standardize(test_dataset, inplace=True)\n",
    "# Featurize the datasets\n",
    "transformer.featurize(test_dataset, inplace=True)\n"
   ]
  },
  {
   "cell_type": "code",
   "execution_count": null,
   "id": "eb84fb97",
   "metadata": {},
   "outputs": [],
   "source": [
    "# Create the dictionary\n",
    "data_dict = {id_: x for id_, x in zip(test_dataset.ids, test_dataset.X)}\n",
    "\n",
    "# to pickle\n",
    "import pickle\n",
    "\n",
    "# Specify the filename\n",
    "filename = 'np_bert_test_set.pkl'\n",
    "\n",
    "# Write the data to a file using pickle\n",
    "with open(filename, 'wb') as file:\n",
    "    pickle.dump(data_dict, file)"
   ]
  },
  {
   "cell_type": "code",
   "execution_count": 2,
   "id": "956c8356",
   "metadata": {},
   "outputs": [
    {
     "name": "stderr",
     "output_type": "stream",
     "text": [
      "No normalization for SPS. Feature removed!\n",
      "No normalization for AvgIpc. Feature removed!\n",
      "2025-06-23 18:40:56.959827: E external/local_xla/xla/stream_executor/cuda/cuda_dnn.cc:9261] Unable to register cuDNN factory: Attempting to register factory for plugin cuDNN when one has already been registered\n",
      "2025-06-23 18:40:56.959875: E external/local_xla/xla/stream_executor/cuda/cuda_fft.cc:607] Unable to register cuFFT factory: Attempting to register factory for plugin cuFFT when one has already been registered\n",
      "2025-06-23 18:40:57.085804: E external/local_xla/xla/stream_executor/cuda/cuda_blas.cc:1515] Unable to register cuBLAS factory: Attempting to register factory for plugin cuBLAS when one has already been registered\n",
      "2025-06-23 18:40:57.307675: I tensorflow/core/platform/cpu_feature_guard.cc:182] This TensorFlow binary is optimized to use available CPU instructions in performance-critical operations.\n",
      "To enable the following instructions: AVX2 AVX512F FMA, in other operations, rebuild TensorFlow with the appropriate compiler flags.\n",
      "2025-06-23 18:41:03.569700: W tensorflow/compiler/tf2tensorrt/utils/py_utils.cc:38] TF-TRT Warning: Could not find TensorRT\n"
     ]
    },
    {
     "name": "stdout",
     "output_type": "stream",
     "text": [
      "WARNING:tensorflow:From /home/jcapela/.local/share/mamba/envs/np_benchmark/lib/python3.10/site-packages/tensorflow/python/util/deprecation.py:588: calling function (from tensorflow.python.eager.polymorphic_function.polymorphic_function) with experimental_relax_shapes is deprecated and will be removed in a future version.\n",
      "Instructions for updating:\n",
      "experimental_relax_shapes is deprecated, use reduce_retracing instead\n"
     ]
    },
    {
     "name": "stderr",
     "output_type": "stream",
     "text": [
      "Skipped loading modules with pytorch-lightning dependency, missing a dependency. No module named 'lightning'\n",
      "Skipped loading some Jax models, missing a dependency. No module named 'jax'\n",
      "/home/jcapela/.local/share/mamba/envs/np_benchmark/lib/python3.10/site-packages/deepmol/compound_featurization/__init__.py:20: UserWarning: Mol2Vec not available. Please install it to use it. (pip install git+https://github.com/samoturk/mol2vec#egg=mol2vec)\n",
      "  warnings.warn(\"Mol2Vec not available. Please install it to use it. \"\n"
     ]
    },
    {
     "name": "stdout",
     "output_type": "stream",
     "text": [
      "2025-06-23 18:41:35,343 — INFO — Standardizer ChEMBLStandardizer initialized with -1 jobs.\n"
     ]
    },
    {
     "name": "stderr",
     "output_type": "stream",
     "text": [
      "ChEMBLStandardizer: 100%|██████████| 164820/164820 [38:25<00:00, 71.48it/s] \n",
      "100%|██████████| 164820/164820 [1:39:35<00:00, 27.58it/s]  \n"
     ]
    }
   ],
   "source": [
    "import os\n",
    "from deepmol.compound_featurization import LLM\n",
    "from transformers import BertConfig, BertModel, ModernBertConfig,ModernBertModel\n",
    "\n",
    "from deepmol.standardizer import ChEMBLStandardizer\n",
    "\n",
    "from deepmol.tokenizers import NPBERTTokenizer\n",
    "\n",
    "transformer = LLM(model_path=\"../ModernBERT\", model=ModernBertModel, config_class=ModernBertConfig, device=\"cuda:4\")\n",
    "\n",
    "\n",
    "ChEMBLStandardizer().standardize(dataset, inplace=True)\n",
    "# Featurize the datasets\n",
    "transformer.featurize(dataset, inplace=True)\n"
   ]
  },
  {
   "cell_type": "code",
   "execution_count": 3,
   "id": "dd2198d3",
   "metadata": {},
   "outputs": [],
   "source": [
    "# Create the dictionary\n",
    "data_dict = {id_: x for id_, x in zip(dataset.ids, dataset.X)}\n",
    "\n",
    "# to pickle\n",
    "import pickle\n",
    "\n",
    "# Specify the filename\n",
    "filename = 'modern_bert.pkl'\n",
    "\n",
    "# Write the data to a file using pickle\n",
    "with open(filename, 'wb') as file:\n",
    "    pickle.dump(data_dict, file)"
   ]
  },
  {
   "cell_type": "code",
   "execution_count": 4,
   "id": "22604ca9",
   "metadata": {},
   "outputs": [],
   "source": [
    "from deepmol.loaders import CSVLoader\n",
    "\n",
    "\n",
    "test_dataset = CSVLoader(dataset_path=\"test_dataset.csv\", smiles_field=\"SMILES\", id_field=\"key\").create_dataset()"
   ]
  },
  {
   "cell_type": "code",
   "execution_count": 5,
   "id": "d492c121",
   "metadata": {},
   "outputs": [
    {
     "name": "stdout",
     "output_type": "stream",
     "text": [
      "2025-06-30 18:01:37,893 — INFO — Standardizer ChEMBLStandardizer initialized with -1 jobs.\n"
     ]
    },
    {
     "name": "stderr",
     "output_type": "stream",
     "text": [
      "ChEMBLStandardizer: 100%|██████████| 15541/15541 [03:05<00:00, 83.81it/s] \n",
      "100%|██████████| 15541/15541 [09:41<00:00, 26.70it/s]\n"
     ]
    }
   ],
   "source": [
    "import os\n",
    "from deepmol.compound_featurization import LLM\n",
    "from transformers import BertConfig, BertModel, ModernBertConfig,ModernBertModel\n",
    "\n",
    "from deepmol.standardizer import ChEMBLStandardizer\n",
    "\n",
    "from deepmol.tokenizers import NPBERTTokenizer\n",
    "\n",
    "transformer = LLM(model_path=\"../ModernBERT\", model=ModernBertModel, config_class=ModernBertConfig, device=\"cuda:4\")\n",
    "\n",
    "\n",
    "ChEMBLStandardizer().standardize(test_dataset, inplace=True)\n",
    "# Featurize the datasets\n",
    "transformer.featurize(test_dataset, inplace=True)\n"
   ]
  },
  {
   "cell_type": "code",
   "execution_count": 6,
   "id": "50f184a8",
   "metadata": {},
   "outputs": [],
   "source": [
    "# Create the dictionary\n",
    "data_dict = {id_: x for id_, x in zip(test_dataset.ids, test_dataset.X)}\n",
    "\n",
    "# to pickle\n",
    "import pickle\n",
    "\n",
    "# Specify the filename\n",
    "filename = 'modern_bert_test_set.pkl'\n",
    "\n",
    "# Write the data to a file using pickle\n",
    "with open(filename, 'wb') as file:\n",
    "    pickle.dump(data_dict, file)"
   ]
  }
 ],
 "metadata": {
  "kernelspec": {
   "display_name": "np_benchmark",
   "language": "python",
   "name": "python3"
  },
  "language_info": {
   "codemirror_mode": {
    "name": "ipython",
    "version": 3
   },
   "file_extension": ".py",
   "mimetype": "text/x-python",
   "name": "python",
   "nbconvert_exporter": "python",
   "pygments_lexer": "ipython3",
   "version": "3.10.17"
  }
 },
 "nbformat": 4,
 "nbformat_minor": 5
}
